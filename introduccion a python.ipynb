{
  "cells": [
    {
      "cell_type": "markdown",
      "metadata": {
        "id": "view-in-github",
        "colab_type": "text"
      },
      "source": [
        "<a href=\"https://colab.research.google.com/github/luishernandezpw/Progra-III-2022/blob/master/introduccion%20a%20python.ipynb\" target=\"_parent\"><img src=\"https://colab.research.google.com/assets/colab-badge.svg\" alt=\"Open In Colab\"/></a>"
      ]
    },
    {
      "cell_type": "code",
      "source": [
        "print(\"Hola Mundo\", \"Bienvenidos a Programacion Computacional III\")\n"
      ],
      "metadata": {
        "colab": {
          "base_uri": "https://localhost:8080/"
        },
        "id": "aWjm4mOXvSPm",
        "outputId": "1c71c7ef-0089-4efd-cb0c-14e2ed787e5e"
      },
      "execution_count": null,
      "outputs": [
        {
          "output_type": "stream",
          "name": "stdout",
          "text": [
            "Hola Mundo Bienvenidos a Programacion Computacional III\n"
          ]
        }
      ]
    },
    {
      "cell_type": "code",
      "source": [
        "print(\"Luis Hernandez\")"
      ],
      "metadata": {
        "colab": {
          "base_uri": "https://localhost:8080/"
        },
        "id": "ozI8ahgOwyce",
        "outputId": "af0bcd2f-7e06-48dc-9b3b-9ff940cc976c"
      },
      "execution_count": null,
      "outputs": [
        {
          "output_type": "stream",
          "name": "stdout",
          "text": [
            "Luis Hernandez\n"
          ]
        }
      ]
    },
    {
      "cell_type": "code",
      "source": [
        "nombre = \"Luis Hernandez\"\n",
        "print(\"Hola\", nombre, nombre[5], type(nombre))\n",
        "\n",
        "nombre = 25\n",
        "print(\"Tu edad es: \", type(nombre))"
      ],
      "metadata": {
        "colab": {
          "base_uri": "https://localhost:8080/"
        },
        "id": "yhtR2-9uw63G",
        "outputId": "42ed9939-cbcc-45df-ad69-3210394bec43"
      },
      "execution_count": null,
      "outputs": [
        {
          "output_type": "stream",
          "name": "stdout",
          "text": [
            "Hola Luis Hernandez H <class 'str'>\n",
            "Tu edad es:  <class 'int'>\n"
          ]
        }
      ]
    },
    {
      "cell_type": "code",
      "source": [
        "programacion = True\n",
        "diseno = False\n",
        "print(\"Te gusta Progra\", programacion, \"Te gusta diseño\", diseno, type(programacion))"
      ],
      "metadata": {
        "id": "FGPDUnizM612",
        "outputId": "efbb1350-b288-4bfc-d75f-0933b30e8f0e",
        "colab": {
          "base_uri": "https://localhost:8080/"
        }
      },
      "execution_count": null,
      "outputs": [
        {
          "output_type": "stream",
          "name": "stdout",
          "text": [
            "Te gusta Progra True Te gusta diseño False <class 'bool'>\n"
          ]
        }
      ]
    },
    {
      "cell_type": "code",
      "source": [
        "edad = int(input(\"Dime tu edad: \"))\n",
        "if edad>=18: #comparacion da como resultado un valor booleano\n",
        "  print(\"Eres un adulto, tienes responsabilidades...\")\n",
        "else:\n",
        "  print(\"Eres libre\")"
      ],
      "metadata": {
        "id": "d2GyGAOdNW1x",
        "outputId": "34bf72ea-d2b5-461b-c365-1f8bcd09af71",
        "colab": {
          "base_uri": "https://localhost:8080/"
        }
      },
      "execution_count": null,
      "outputs": [
        {
          "output_type": "stream",
          "name": "stdout",
          "text": [
            "Dime tu edad: 25\n",
            "Eres un adulto, tienes responsabilidades...\n"
          ]
        }
      ]
    },
    {
      "cell_type": "code",
      "source": [
        "def sumaDosNumeros(num1, num2):\n",
        "  resp = num1 + num2\n",
        "  return resp\n",
        "print( \"La suma: \", sumaDosNumeros(2,5) )    "
      ],
      "metadata": {
        "id": "H303IZroPdeK",
        "outputId": "d19acdcd-62d5-4ad6-c194-a74799e7cb87",
        "colab": {
          "base_uri": "https://localhost:8080/"
        }
      },
      "execution_count": null,
      "outputs": [
        {
          "output_type": "stream",
          "name": "stdout",
          "text": [
            "La suma:  7\n"
          ]
        }
      ]
    },
    {
      "cell_type": "markdown",
      "source": [
        ""
      ],
      "metadata": {
        "id": "9OcRRUaKVts_"
      }
    },
    {
      "cell_type": "code",
      "source": [
        "#funciones anonimas... \n",
        "sumaNumeros = lambda num1, num2: num1 + num2\n",
        "print( \"La suma: \", sumaNumeros(4,6))"
      ],
      "metadata": {
        "id": "VvoERMe8Q6im",
        "outputId": "1f0a698b-2169-41ac-e96c-64cde1b56d93",
        "colab": {
          "base_uri": "https://localhost:8080/"
        }
      },
      "execution_count": null,
      "outputs": [
        {
          "output_type": "stream",
          "name": "stdout",
          "text": [
            "La suma:  10\n"
          ]
        }
      ]
    },
    {
      "cell_type": "code",
      "source": [
        "numeros = [5,4,7,8,-4,-9] #array unidimensional"
      ],
      "metadata": {
        "id": "fj4lVjX1X66u"
      },
      "execution_count": null,
      "outputs": []
    },
    {
      "cell_type": "code",
      "source": [
        "def cuadrado(num):\n",
        "  return num**2"
      ],
      "metadata": {
        "id": "44cMwMXxXnLG"
      },
      "execution_count": null,
      "outputs": []
    },
    {
      "cell_type": "code",
      "source": [
        "def cubo(num):\n",
        "  return num**3"
      ],
      "metadata": {
        "id": "2d8TtecAYGAb"
      },
      "execution_count": null,
      "outputs": []
    },
    {
      "cell_type": "code",
      "source": [
        "def pares(num): #num = 2/2 = 1 == 0\n",
        "  return num%2==0"
      ],
      "metadata": {
        "id": "fziJLSLbaif4"
      },
      "execution_count": null,
      "outputs": []
    },
    {
      "cell_type": "code",
      "source": [
        "def impares(num):\n",
        "  return num%2!=0"
      ],
      "metadata": {
        "id": "WgWbIeQRd1j4"
      },
      "execution_count": null,
      "outputs": []
    },
    {
      "cell_type": "code",
      "source": [
        "numCuadrado = list(map(cuadrado, numeros))\n",
        "numXDos = list( map(lambda num: num*2, numeros) )\n",
        "print(\"Elevar al cuadradola lista: \",numCuadrado, numXDos )"
      ],
      "metadata": {
        "id": "kBtTQ095SLF9",
        "outputId": "fa1c31c9-0033-4c59-ddae-064b1ae60e18",
        "colab": {
          "base_uri": "https://localhost:8080/"
        }
      },
      "execution_count": null,
      "outputs": [
        {
          "output_type": "stream",
          "name": "stdout",
          "text": [
            "Elevar al cuadradola lista:  [25, 16, 49, 64, 16, 81] [10, 8, 14, 16, -8, -18]\n"
          ]
        }
      ]
    },
    {
      "cell_type": "code",
      "source": [
        "numCubo = list( map(cubo, numeros) )\n",
        "print(numCubo)"
      ],
      "metadata": {
        "id": "7xJvl1K-X9n-",
        "outputId": "446d21bb-3f51-43a9-cb9f-2a3244547f03",
        "colab": {
          "base_uri": "https://localhost:8080/"
        }
      },
      "execution_count": null,
      "outputs": [
        {
          "output_type": "stream",
          "name": "stdout",
          "text": [
            "[125, 64, 343, 512, -64, -729]\n"
          ]
        }
      ]
    },
    {
      "cell_type": "code",
      "source": [
        "#usando filter dejamos solo los pares\n",
        "pares = list( filter(pares, numeros) )\n",
        "print(pares)"
      ],
      "metadata": {
        "id": "RDm54a3eaUs4",
        "outputId": "4b94d94c-02b5-46a3-bc95-52f26f948d97",
        "colab": {
          "base_uri": "https://localhost:8080/"
        }
      },
      "execution_count": null,
      "outputs": [
        {
          "output_type": "stream",
          "name": "stdout",
          "text": [
            "[4, 8, -4]\n"
          ]
        }
      ]
    },
    {
      "cell_type": "code",
      "source": [
        "impares = list( filter(impares,numeros) )\n",
        "print(impares)"
      ],
      "metadata": {
        "id": "Y9tFm7zveAVM",
        "outputId": "0fa9b867-baf7-4207-d03d-1cf3beadb704",
        "colab": {
          "base_uri": "https://localhost:8080/"
        }
      },
      "execution_count": null,
      "outputs": [
        {
          "output_type": "stream",
          "name": "stdout",
          "text": [
            "[5, 7, -9]\n"
          ]
        }
      ]
    },
    {
      "cell_type": "code",
      "source": [
        "#conversor de celsius a f\n",
        "def cf(c):\n",
        "  return c*9/5+32"
      ],
      "metadata": {
        "id": "tJ3u4t_vuhRP"
      },
      "execution_count": null,
      "outputs": []
    },
    {
      "cell_type": "code",
      "source": [
        "c = float(input(\"Grados C: \"))\n",
        "print( \"G. C a F\", cf(c))"
      ],
      "metadata": {
        "colab": {
          "base_uri": "https://localhost:8080/"
        },
        "id": "kPZShopEvrus",
        "outputId": "9fe3238f-9627-472f-b37a-42bc9d9f95b6"
      },
      "execution_count": null,
      "outputs": [
        {
          "output_type": "stream",
          "name": "stdout",
          "text": [
            "Grados C: 27\n",
            "G. C a F 80.6\n"
          ]
        }
      ]
    },
    {
      "cell_type": "code",
      "source": [
        "celsius = lambda c: c*9/5 + 32\n",
        "c = int(input(\"Grados Celsius A convertir: \"))\n",
        "\n",
        "print( celsius(c) )"
      ],
      "metadata": {
        "colab": {
          "base_uri": "https://localhost:8080/"
        },
        "id": "vRyoXRJ9yiwg",
        "outputId": "b4fcbf23-45e3-4aa7-b9df-81c7fd6795b7"
      },
      "execution_count": null,
      "outputs": [
        {
          "output_type": "stream",
          "name": "stdout",
          "text": [
            "Grados Celsius A convertir: 27\n",
            "80.6\n"
          ]
        }
      ]
    },
    {
      "cell_type": "code",
      "source": [
        "gradosc = [27,30,35,40,45]\n",
        "grados = lambda c: c*1.8 + 32\n",
        "f = list( map(grados, gradosc) )\n",
        "print(f)"
      ],
      "metadata": {
        "colab": {
          "base_uri": "https://localhost:8080/"
        },
        "id": "ckC9sKJ20fsr",
        "outputId": "93d4ca1c-f236-4671-8cf8-653beba107e0"
      },
      "execution_count": null,
      "outputs": [
        {
          "output_type": "stream",
          "name": "stdout",
          "text": [
            "[80.6, 86.0, 95.0, 104.0, 113.0]\n"
          ]
        }
      ]
    },
    {
      "cell_type": "markdown",
      "source": [
        "**Tarea:** \n",
        "*Hacer un algoritmo en python que convierta de farenheit a celsius*\n",
        "*Hacer un algoritmo en python que convierta de Celsius a Kelvin y viceversa*"
      ],
      "metadata": {
        "id": "18p3opOD6Hko"
      }
    },
    {
      "cell_type": "code",
      "source": [
        "numeros = [5,7,9,6,8,7,3] #, se declara y usa con corchetes"
      ],
      "metadata": {
        "id": "yL2TAhHGO6iK"
      },
      "execution_count": 41,
      "outputs": []
    },
    {
      "cell_type": "code",
      "source": [
        "print(\" Lista original \", \" Buscando: \", numeros[numeros.index(3)], numeros[0] )"
      ],
      "metadata": {
        "colab": {
          "base_uri": "https://localhost:8080/"
        },
        "id": "33IxHK9BO7yT",
        "outputId": "4b096938-bb00-457e-9d1c-8d37590e582b"
      },
      "execution_count": 29,
      "outputs": [
        {
          "output_type": "stream",
          "name": "stdout",
          "text": [
            " Lista original   Buscando:  3 5\n"
          ]
        }
      ]
    },
    {
      "cell_type": "code",
      "source": [
        "numeros[0] = 4\n",
        "print(\"Nuevo valor: \", numeros[0])"
      ],
      "metadata": {
        "colab": {
          "base_uri": "https://localhost:8080/"
        },
        "id": "2G-MW574R4Fd",
        "outputId": "d165774f-6a76-4bc8-9739-962becb1344f"
      },
      "execution_count": 31,
      "outputs": [
        {
          "output_type": "stream",
          "name": "stdout",
          "text": [
            "Nuevo valor:  4\n"
          ]
        }
      ]
    },
    {
      "cell_type": "code",
      "source": [
        "edades = (2,5,12,18,65,100) #Una tupla es inmutable, se declara con parentesis\n",
        "print( \"Las edades: \", edades, edades[0] )"
      ],
      "metadata": {
        "colab": {
          "base_uri": "https://localhost:8080/"
        },
        "id": "n07Q7YVCQVXd",
        "outputId": "d727e39b-95a3-429c-bba6-b003b8abc370"
      },
      "execution_count": 42,
      "outputs": [
        {
          "output_type": "stream",
          "name": "stdout",
          "text": [
            "Las edades:  (2, 5, 12, 18, 65, 100) 2\n"
          ]
        }
      ]
    },
    {
      "cell_type": "code",
      "source": [
        "#edades[0] = 0 #NO puedo cambiar su valor, y se usa con corchetes\n",
        "print( \"Nuevo Valor\", edades[0] )"
      ],
      "metadata": {
        "colab": {
          "base_uri": "https://localhost:8080/"
        },
        "id": "SlxJ16qEQy0-",
        "outputId": "a01131c9-ef73-49f1-f255-0ba2213b23cf"
      },
      "execution_count": 43,
      "outputs": [
        {
          "output_type": "stream",
          "name": "stdout",
          "text": [
            "Nuevo Valor 2\n"
          ]
        }
      ]
    },
    {
      "cell_type": "markdown",
      "source": [
        ""
      ],
      "metadata": {
        "id": "zrnoZo9hyWXx"
      }
    },
    {
      "cell_type": "code",
      "source": [
        "print(\"Edades: \", edades, \"Filtrar solo mayores de edad: \", tuple(filter( lambda num: num>=18, edades )) )"
      ],
      "metadata": {
        "colab": {
          "base_uri": "https://localhost:8080/"
        },
        "id": "PTRDLNZfTZeU",
        "outputId": "f6f7d323-18c5-452c-a79b-99946dd040a9"
      },
      "execution_count": 48,
      "outputs": [
        {
          "output_type": "stream",
          "name": "stdout",
          "text": [
            "Edades:  (2, 5, 12, 18, 65, 100) Filtrar solo mayores de edad:  (18, 65, 100)\n"
          ]
        }
      ]
    },
    {
      "cell_type": "code",
      "source": [
        "buscando = int(input(\"Valor: \"))\n",
        "print( \"Edades: \", edades, \"Buscando el numero: \", buscando, \"esta en la posicion: \", edades.index(buscando) )"
      ],
      "metadata": {
        "colab": {
          "base_uri": "https://localhost:8080/"
        },
        "id": "4OupAC83UEpn",
        "outputId": "19863240-3904-47e3-c413-68b2c7e377f2"
      },
      "execution_count": 51,
      "outputs": [
        {
          "output_type": "stream",
          "name": "stdout",
          "text": [
            "Valor: 5\n",
            "Edades:  (2, 5, 12, 18, 65, 100) Buscando el numero:  5 esta en la posicion:  1\n"
          ]
        }
      ]
    },
    {
      "cell_type": "code",
      "source": [
        "notas = [5, 4, 10, 7.8, 9]\n",
        "print(\"Mis Notas: \", notas, \"Notas sobresalientes: \", list(filter(lambda n:n>=9, notas)) )"
      ],
      "metadata": {
        "colab": {
          "base_uri": "https://localhost:8080/"
        },
        "id": "7Qkug-TpVK7G",
        "outputId": "ddaff010-396a-44a9-c58a-33d1a50d6f8e"
      },
      "execution_count": 57,
      "outputs": [
        {
          "output_type": "stream",
          "name": "stdout",
          "text": [
            "Mis Notas:  [5, 4, 10, 7.8, 9] Notas sobresalientes:  [10, 9]\n"
          ]
        }
      ]
    },
    {
      "cell_type": "code",
      "source": [
        "notasCiclo = [\n",
        "    [5,6,6],\n",
        "    [8,7,10],\n",
        "    [10,10,10]\n",
        "]\n",
        "print( \"Mis Notas\", notasCiclo, \"C1: \", notasCiclo[0], \"C2: \", notasCiclo[1], \"C3: \", notasCiclo[2], \"PC1: \", notasCiclo[0][2] )"
      ],
      "metadata": {
        "colab": {
          "base_uri": "https://localhost:8080/"
        },
        "id": "TioyVwevWFSY",
        "outputId": "020ead19-8b5b-4d43-e73d-3f1f63d9be3d"
      },
      "execution_count": 63,
      "outputs": [
        {
          "output_type": "stream",
          "name": "stdout",
          "text": [
            "Mis Notas [[5, 6, 6], [8, 7, 10], [10, 10, 10]] C1:  [5, 6, 6] C2:  [8, 7, 10] C3:  [10, 10, 10] PC1:  6\n"
          ]
        }
      ]
    },
    {
      "cell_type": "code",
      "source": [
        "materias = [\n",
        "    [ #Progra\n",
        "      [5,6,[10,8]],#c1\n",
        "      [5,7,8],#c2\n",
        "      [6,7,6] #c3\n",
        "    ],\n",
        "    [ #Diseño\n",
        "      [10,9,10], #c1\n",
        "      [10,10,8], #c2\n",
        "      [10,10,10] #c3\n",
        "    ],\n",
        "    [ #Redes\n",
        "      [8,7,8], #c1\n",
        "      [7,9.23,9], #c2\n",
        "      [8,7,9]  #c3\n",
        "    ]\n",
        "]\n",
        "print(\"Progra: C1 - P\", (materias[0][0][2][0] + materias[0][0][2][1])/2, \"; Redes C2, Lab2: \", materias[2][1][1] )"
      ],
      "metadata": {
        "colab": {
          "base_uri": "https://localhost:8080/"
        },
        "id": "Tt8dyfWdXaAu",
        "outputId": "0c4b988e-7ce6-4704-c135-ba5fbbdffbfe"
      },
      "execution_count": 77,
      "outputs": [
        {
          "output_type": "stream",
          "name": "stdout",
          "text": [
            "Progra: C1 - P 9.0 ; Redes C2, Lab2:  9.23\n"
          ]
        }
      ]
    },
    {
      "cell_type": "code",
      "source": [
        "misMaterias = {} #los diccionarios (json) se definen con llaves y se usan con corchetes\n",
        "misNotas = {\n",
        "    \"Progra I\":{\n",
        "        \"CI\"\n",
        "    }\n",
        "}\n",
        "print( misNotas )"
      ],
      "metadata": {
        "colab": {
          "base_uri": "https://localhost:8080/"
        },
        "id": "py6oXuB8YCAe",
        "outputId": "3fad874d-abd9-4a3e-94a7-967ad9d9c0e1"
      },
      "execution_count": 82,
      "outputs": [
        {
          "output_type": "stream",
          "name": "stdout",
          "text": [
            "{'Progra I': {'CI'}}\n"
          ]
        }
      ]
    }
  ],
  "metadata": {
    "colab": {
      "collapsed_sections": [],
      "name": "Te damos la bienvenida a Colaboratory",
      "provenance": [],
      "include_colab_link": true
    },
    "kernelspec": {
      "display_name": "Python 3",
      "name": "python3"
    }
  },
  "nbformat": 4,
  "nbformat_minor": 0
}