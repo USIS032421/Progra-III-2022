{
  "cells": [
    {
      "cell_type": "markdown",
      "metadata": {
        "id": "view-in-github",
        "colab_type": "text"
      },
      "source": [
        "<a href=\"https://colab.research.google.com/github/luishernandezpw/Progra-III-2022/blob/master/introduccion%20a%20python.ipynb\" target=\"_parent\"><img src=\"https://colab.research.google.com/assets/colab-badge.svg\" alt=\"Open In Colab\"/></a>"
      ]
    },
    {
      "cell_type": "code",
      "source": [
        "print(\"Hola Mundo\", \"Bienvenidos a Programacion Computacional III\")\n"
      ],
      "metadata": {
        "colab": {
          "base_uri": "https://localhost:8080/"
        },
        "id": "aWjm4mOXvSPm",
        "outputId": "1c71c7ef-0089-4efd-cb0c-14e2ed787e5e"
      },
      "execution_count": null,
      "outputs": [
        {
          "output_type": "stream",
          "name": "stdout",
          "text": [
            "Hola Mundo Bienvenidos a Programacion Computacional III\n"
          ]
        }
      ]
    },
    {
      "cell_type": "code",
      "source": [
        "print(\"Luis Hernandez\")"
      ],
      "metadata": {
        "colab": {
          "base_uri": "https://localhost:8080/"
        },
        "id": "ozI8ahgOwyce",
        "outputId": "af0bcd2f-7e06-48dc-9b3b-9ff940cc976c"
      },
      "execution_count": null,
      "outputs": [
        {
          "output_type": "stream",
          "name": "stdout",
          "text": [
            "Luis Hernandez\n"
          ]
        }
      ]
    },
    {
      "cell_type": "code",
      "source": [
        "nombre = \"Luis Hernandez\"\n",
        "print(\"Hola\", nombre, nombre[5], type(nombre))\n",
        "\n",
        "nombre = 25\n",
        "print(\"Tu edad es: \", type(nombre))"
      ],
      "metadata": {
        "colab": {
          "base_uri": "https://localhost:8080/"
        },
        "id": "yhtR2-9uw63G",
        "outputId": "42ed9939-cbcc-45df-ad69-3210394bec43"
      },
      "execution_count": null,
      "outputs": [
        {
          "output_type": "stream",
          "name": "stdout",
          "text": [
            "Hola Luis Hernandez H <class 'str'>\n",
            "Tu edad es:  <class 'int'>\n"
          ]
        }
      ]
    },
    {
      "cell_type": "code",
      "source": [
        "programacion = True\n",
        "diseno = False\n",
        "print(\"Te gusta Progra\", programacion, \"Te gusta diseño\", diseno, type(programacion))"
      ],
      "metadata": {
        "id": "FGPDUnizM612",
        "outputId": "efbb1350-b288-4bfc-d75f-0933b30e8f0e",
        "colab": {
          "base_uri": "https://localhost:8080/"
        }
      },
      "execution_count": null,
      "outputs": [
        {
          "output_type": "stream",
          "name": "stdout",
          "text": [
            "Te gusta Progra True Te gusta diseño False <class 'bool'>\n"
          ]
        }
      ]
    },
    {
      "cell_type": "code",
      "source": [
        "edad = int(input(\"Dime tu edad: \"))\n",
        "if edad>=18: #comparacion da como resultado un valor booleano\n",
        "  print(\"Eres un adulto, tienes responsabilidades...\")\n",
        "else:\n",
        "  print(\"Eres libre\")"
      ],
      "metadata": {
        "id": "d2GyGAOdNW1x",
        "outputId": "34bf72ea-d2b5-461b-c365-1f8bcd09af71",
        "colab": {
          "base_uri": "https://localhost:8080/"
        }
      },
      "execution_count": null,
      "outputs": [
        {
          "output_type": "stream",
          "name": "stdout",
          "text": [
            "Dime tu edad: 25\n",
            "Eres un adulto, tienes responsabilidades...\n"
          ]
        }
      ]
    },
    {
      "cell_type": "code",
      "source": [
        "def sumaDosNumeros(num1, num2):\n",
        "  resp = num1 + num2\n",
        "  return resp\n",
        "print( \"La suma: \", sumaDosNumeros(2,5) )    "
      ],
      "metadata": {
        "id": "H303IZroPdeK",
        "outputId": "d19acdcd-62d5-4ad6-c194-a74799e7cb87",
        "colab": {
          "base_uri": "https://localhost:8080/"
        }
      },
      "execution_count": null,
      "outputs": [
        {
          "output_type": "stream",
          "name": "stdout",
          "text": [
            "La suma:  7\n"
          ]
        }
      ]
    },
    {
      "cell_type": "markdown",
      "source": [],
      "metadata": {
        "id": "9OcRRUaKVts_"
      }
    },
    {
      "cell_type": "code",
      "source": [
        "#funciones anonimas... \n",
        "sumaNumeros = lambda num1, num2: num1 + num2\n",
        "print( \"La suma: \", sumaNumeros(4,6))"
      ],
      "metadata": {
        "id": "VvoERMe8Q6im",
        "outputId": "1f0a698b-2169-41ac-e96c-64cde1b56d93",
        "colab": {
          "base_uri": "https://localhost:8080/"
        }
      },
      "execution_count": null,
      "outputs": [
        {
          "output_type": "stream",
          "name": "stdout",
          "text": [
            "La suma:  10\n"
          ]
        }
      ]
    },
    {
      "cell_type": "code",
      "source": [
        "numeros = [5,4,7,8,-4,-9] #array unidimensional"
      ],
      "metadata": {
        "id": "fj4lVjX1X66u"
      },
      "execution_count": null,
      "outputs": []
    },
    {
      "cell_type": "code",
      "source": [
        "def cuadrado(num):\n",
        "  return num**2"
      ],
      "metadata": {
        "id": "44cMwMXxXnLG"
      },
      "execution_count": null,
      "outputs": []
    },
    {
      "cell_type": "code",
      "source": [
        "def cubo(num):\n",
        "  return num**3"
      ],
      "metadata": {
        "id": "2d8TtecAYGAb"
      },
      "execution_count": null,
      "outputs": []
    },
    {
      "cell_type": "code",
      "source": [
        "def pares(num): #num = 2/2 = 1 == 0\n",
        "  return num%2==0"
      ],
      "metadata": {
        "id": "fziJLSLbaif4"
      },
      "execution_count": null,
      "outputs": []
    },
    {
      "cell_type": "code",
      "source": [
        "def impares(num):\n",
        "  return num%2!=0"
      ],
      "metadata": {
        "id": "WgWbIeQRd1j4"
      },
      "execution_count": null,
      "outputs": []
    },
    {
      "cell_type": "code",
      "source": [
        "numCuadrado = list(map(cuadrado, numeros))\n",
        "numXDos = list( map(lambda num: num*2, numeros) )\n",
        "print(\"Elevar al cuadradola lista: \",numCuadrado, numXDos )"
      ],
      "metadata": {
        "id": "kBtTQ095SLF9",
        "outputId": "fa1c31c9-0033-4c59-ddae-064b1ae60e18",
        "colab": {
          "base_uri": "https://localhost:8080/"
        }
      },
      "execution_count": null,
      "outputs": [
        {
          "output_type": "stream",
          "name": "stdout",
          "text": [
            "Elevar al cuadradola lista:  [25, 16, 49, 64, 16, 81] [10, 8, 14, 16, -8, -18]\n"
          ]
        }
      ]
    },
    {
      "cell_type": "code",
      "source": [
        "numCubo = list( map(cubo, numeros) )\n",
        "print(numCubo)"
      ],
      "metadata": {
        "id": "7xJvl1K-X9n-",
        "outputId": "446d21bb-3f51-43a9-cb9f-2a3244547f03",
        "colab": {
          "base_uri": "https://localhost:8080/"
        }
      },
      "execution_count": null,
      "outputs": [
        {
          "output_type": "stream",
          "name": "stdout",
          "text": [
            "[125, 64, 343, 512, -64, -729]\n"
          ]
        }
      ]
    },
    {
      "cell_type": "code",
      "source": [
        "#usando filter dejamos solo los pares\n",
        "pares = list( filter(pares, numeros) )\n",
        "print(pares)"
      ],
      "metadata": {
        "id": "RDm54a3eaUs4",
        "outputId": "4b94d94c-02b5-46a3-bc95-52f26f948d97",
        "colab": {
          "base_uri": "https://localhost:8080/"
        }
      },
      "execution_count": null,
      "outputs": [
        {
          "output_type": "stream",
          "name": "stdout",
          "text": [
            "[4, 8, -4]\n"
          ]
        }
      ]
    },
    {
      "cell_type": "code",
      "source": [
        "impares = list( filter(impares,numeros) )\n",
        "print(impares)"
      ],
      "metadata": {
        "id": "Y9tFm7zveAVM",
        "outputId": "0fa9b867-baf7-4207-d03d-1cf3beadb704",
        "colab": {
          "base_uri": "https://localhost:8080/"
        }
      },
      "execution_count": null,
      "outputs": [
        {
          "output_type": "stream",
          "name": "stdout",
          "text": [
            "[5, 7, -9]\n"
          ]
        }
      ]
    },
    {
      "cell_type": "code",
      "source": [
        "#conversor de celsius a f\n",
        "def cf(c):\n",
        "  return c*9/5+32"
      ],
      "metadata": {
        "id": "tJ3u4t_vuhRP"
      },
      "execution_count": null,
      "outputs": []
    },
    {
      "cell_type": "code",
      "source": [
        "c = float(input(\"Grados C: \"))\n",
        "print( \"G. C a F\", cf(c))"
      ],
      "metadata": {
        "colab": {
          "base_uri": "https://localhost:8080/"
        },
        "id": "kPZShopEvrus",
        "outputId": "9fe3238f-9627-472f-b37a-42bc9d9f95b6"
      },
      "execution_count": null,
      "outputs": [
        {
          "output_type": "stream",
          "name": "stdout",
          "text": [
            "Grados C: 27\n",
            "G. C a F 80.6\n"
          ]
        }
      ]
    },
    {
      "cell_type": "code",
      "source": [
        "celsius = lambda c: c*9/5 + 32\n",
        "c = int(input(\"Grados Celsius A convertir: \"))\n",
        "\n",
        "print( celsius(c) )"
      ],
      "metadata": {
        "colab": {
          "base_uri": "https://localhost:8080/"
        },
        "id": "vRyoXRJ9yiwg",
        "outputId": "b4fcbf23-45e3-4aa7-b9df-81c7fd6795b7"
      },
      "execution_count": null,
      "outputs": [
        {
          "output_type": "stream",
          "name": "stdout",
          "text": [
            "Grados Celsius A convertir: 27\n",
            "80.6\n"
          ]
        }
      ]
    },
    {
      "cell_type": "code",
      "source": [
        "gradosc = [27,30,35,40,45]\n",
        "grados = lambda c: c*1.8 + 32\n",
        "f = list( map(grados, gradosc) )\n",
        "print(f)"
      ],
      "metadata": {
        "colab": {
          "base_uri": "https://localhost:8080/"
        },
        "id": "ckC9sKJ20fsr",
        "outputId": "93d4ca1c-f236-4671-8cf8-653beba107e0"
      },
      "execution_count": null,
      "outputs": [
        {
          "output_type": "stream",
          "name": "stdout",
          "text": [
            "[80.6, 86.0, 95.0, 104.0, 113.0]\n"
          ]
        }
      ]
    },
    {
      "cell_type": "markdown",
      "source": [
        "**Tarea:** \n",
        "*Hacer un algoritmo en python que convierta de farenheit a celsius*\n",
        "*Hacer un algoritmo en python que convierta de Celsius a Kelvin y viceversa*"
      ],
      "metadata": {
        "id": "18p3opOD6Hko"
      }
    },
    {
      "cell_type": "code",
      "source": [
        "numeros = [5,7,9,6,8,7,3] #, se declara y usa con corchetes"
      ],
      "metadata": {
        "id": "yL2TAhHGO6iK"
      },
      "execution_count": null,
      "outputs": []
    },
    {
      "cell_type": "code",
      "source": [
        "print(\" Lista original \", \" Buscando: \", numeros[numeros.index(3)], numeros[0] )"
      ],
      "metadata": {
        "colab": {
          "base_uri": "https://localhost:8080/"
        },
        "id": "33IxHK9BO7yT",
        "outputId": "4b096938-bb00-457e-9d1c-8d37590e582b"
      },
      "execution_count": null,
      "outputs": [
        {
          "output_type": "stream",
          "name": "stdout",
          "text": [
            " Lista original   Buscando:  3 5\n"
          ]
        }
      ]
    },
    {
      "cell_type": "code",
      "source": [
        "numeros[0] = 4\n",
        "print(\"Nuevo valor: \", numeros[0])"
      ],
      "metadata": {
        "colab": {
          "base_uri": "https://localhost:8080/"
        },
        "id": "2G-MW574R4Fd",
        "outputId": "d165774f-6a76-4bc8-9739-962becb1344f"
      },
      "execution_count": null,
      "outputs": [
        {
          "output_type": "stream",
          "name": "stdout",
          "text": [
            "Nuevo valor:  4\n"
          ]
        }
      ]
    },
    {
      "cell_type": "code",
      "source": [
        "edades = (2,5,12,18,65,100) #Una tupla es inmutable, se declara con parentesis\n",
        "print( \"Las edades: \", edades, edades[0] )"
      ],
      "metadata": {
        "colab": {
          "base_uri": "https://localhost:8080/"
        },
        "id": "n07Q7YVCQVXd",
        "outputId": "d727e39b-95a3-429c-bba6-b003b8abc370"
      },
      "execution_count": null,
      "outputs": [
        {
          "output_type": "stream",
          "name": "stdout",
          "text": [
            "Las edades:  (2, 5, 12, 18, 65, 100) 2\n"
          ]
        }
      ]
    },
    {
      "cell_type": "code",
      "source": [
        "#edades[0] = 0 #NO puedo cambiar su valor, y se usa con corchetes\n",
        "print( \"Nuevo Valor\", edades[0] )"
      ],
      "metadata": {
        "colab": {
          "base_uri": "https://localhost:8080/"
        },
        "id": "SlxJ16qEQy0-",
        "outputId": "a01131c9-ef73-49f1-f255-0ba2213b23cf"
      },
      "execution_count": null,
      "outputs": [
        {
          "output_type": "stream",
          "name": "stdout",
          "text": [
            "Nuevo Valor 2\n"
          ]
        }
      ]
    },
    {
      "cell_type": "markdown",
      "source": [],
      "metadata": {
        "id": "zrnoZo9hyWXx"
      }
    },
    {
      "cell_type": "code",
      "source": [
        "print(\"Edades: \", edades, \"Filtrar solo mayores de edad: \", tuple(filter( lambda num: num>=18, edades )) )"
      ],
      "metadata": {
        "colab": {
          "base_uri": "https://localhost:8080/"
        },
        "id": "PTRDLNZfTZeU",
        "outputId": "f6f7d323-18c5-452c-a79b-99946dd040a9"
      },
      "execution_count": null,
      "outputs": [
        {
          "output_type": "stream",
          "name": "stdout",
          "text": [
            "Edades:  (2, 5, 12, 18, 65, 100) Filtrar solo mayores de edad:  (18, 65, 100)\n"
          ]
        }
      ]
    },
    {
      "cell_type": "code",
      "source": [
        "buscando = int(input(\"Valor: \"))\n",
        "print( \"Edades: \", edades, \"Buscando el numero: \", buscando, \"esta en la posicion: \", edades.index(buscando) )"
      ],
      "metadata": {
        "colab": {
          "base_uri": "https://localhost:8080/"
        },
        "id": "4OupAC83UEpn",
        "outputId": "19863240-3904-47e3-c413-68b2c7e377f2"
      },
      "execution_count": null,
      "outputs": [
        {
          "output_type": "stream",
          "name": "stdout",
          "text": [
            "Valor: 5\n",
            "Edades:  (2, 5, 12, 18, 65, 100) Buscando el numero:  5 esta en la posicion:  1\n"
          ]
        }
      ]
    },
    {
      "cell_type": "code",
      "source": [
        "notas = [5, 4, 10, 7.8, 9]\n",
        "print(\"Mis Notas: \", notas, \"Notas sobresalientes: \", list(filter(lambda n:n>=9, notas)) )"
      ],
      "metadata": {
        "colab": {
          "base_uri": "https://localhost:8080/"
        },
        "id": "7Qkug-TpVK7G",
        "outputId": "ddaff010-396a-44a9-c58a-33d1a50d6f8e"
      },
      "execution_count": null,
      "outputs": [
        {
          "output_type": "stream",
          "name": "stdout",
          "text": [
            "Mis Notas:  [5, 4, 10, 7.8, 9] Notas sobresalientes:  [10, 9]\n"
          ]
        }
      ]
    },
    {
      "cell_type": "code",
      "source": [
        "notasCiclo = [\n",
        "    [5,6,6],\n",
        "    [8,7,10],\n",
        "    [10,10,10]\n",
        "]\n",
        "print( \"Mis Notas\", notasCiclo, \"C1: \", notasCiclo[0], \"C2: \", notasCiclo[1], \"C3: \", notasCiclo[2], \"PC1: \", notasCiclo[0][2] )"
      ],
      "metadata": {
        "colab": {
          "base_uri": "https://localhost:8080/"
        },
        "id": "TioyVwevWFSY",
        "outputId": "020ead19-8b5b-4d43-e73d-3f1f63d9be3d"
      },
      "execution_count": null,
      "outputs": [
        {
          "output_type": "stream",
          "name": "stdout",
          "text": [
            "Mis Notas [[5, 6, 6], [8, 7, 10], [10, 10, 10]] C1:  [5, 6, 6] C2:  [8, 7, 10] C3:  [10, 10, 10] PC1:  6\n"
          ]
        }
      ]
    },
    {
      "cell_type": "code",
      "source": [
        "materias = [\n",
        "    [ #Progra\n",
        "      [5,6,[10,8]],#c1\n",
        "      [5,7,8],#c2\n",
        "      [6,7,6] #c3\n",
        "    ],\n",
        "    [ #Diseño\n",
        "      [10,9,10], #c1\n",
        "      [10,10,8], #c2\n",
        "      [10,10,10] #c3\n",
        "    ],\n",
        "    [ #Redes\n",
        "      [8,7,8], #c1\n",
        "      [7,9.23,9], #c2\n",
        "      [8,7,9]  #c3\n",
        "    ]\n",
        "]\n",
        "print(\"Progra: C1 - P\", (materias[0][0][2][0] + materias[0][0][2][1])/2, \"; Redes C2, Lab2: \", materias[2][1][1] )"
      ],
      "metadata": {
        "colab": {
          "base_uri": "https://localhost:8080/"
        },
        "id": "Tt8dyfWdXaAu",
        "outputId": "0c4b988e-7ce6-4704-c135-ba5fbbdffbfe"
      },
      "execution_count": null,
      "outputs": [
        {
          "output_type": "stream",
          "name": "stdout",
          "text": [
            "Progra: C1 - P 9.0 ; Redes C2, Lab2:  9.23\n"
          ]
        }
      ]
    },
    {
      "cell_type": "code",
      "source": [
        "misMaterias = {} #los diccionarios (json) se definen con llaves y se usan con corchetes\n",
        "misNotas = {\n",
        "    \"Progra I\":{\n",
        "        \"CI\": {\n",
        "            \"Lab1\": 5,\n",
        "            \"Lab2\": 6,\n",
        "            \"Parcial\": [10,8]\n",
        "        },\n",
        "        \"CII\":{\n",
        "            \"Lab1\": 5,\n",
        "            \"Lab2\": 7,\n",
        "            \"Parcial\": 8\n",
        "        },\n",
        "        \"CIII\":{\n",
        "            \"Lab1\":6,\n",
        "            \"Lab2\":7,\n",
        "            \"Parcial\":6\n",
        "        }\n",
        "    },\n",
        "    \"Diseño\":{\n",
        "        \"CI\": {\n",
        "            \"Lab1\": 10,\n",
        "            \"Lab2\": 9,\n",
        "            \"Parcial\": 10\n",
        "        },\n",
        "        \"CII\":{\n",
        "            \"Lab1\": 10,\n",
        "            \"Lab2\": 10,\n",
        "            \"Parcial\": 8\n",
        "        },\n",
        "        \"CIII\":{\n",
        "            \"Lab1\":10,\n",
        "            \"Lab2\":10,\n",
        "            \"Parcial\":10\n",
        "        }\n",
        "    }\n",
        "}\n",
        "print( misNotas[\"Progra I\"][\"CI\"][\"Parcial\"], misNotas[\"Diseño\"][\"CII\"][\"Lab2\"] )"
      ],
      "metadata": {
        "colab": {
          "base_uri": "https://localhost:8080/"
        },
        "id": "py6oXuB8YCAe",
        "outputId": "dd7e1371-1ae2-4a3e-ee77-b942aaf71d8c"
      },
      "execution_count": null,
      "outputs": [
        {
          "output_type": "stream",
          "name": "stdout",
          "text": [
            "[10, 8] 10\n"
          ]
        }
      ]
    },
    {
      "cell_type": "markdown",
      "source": [
        "Conversor de Divisas...\n",
        "Dolares, Quetzalez, Lempiras, Cordobas, Pesos CR, Euros, Colon SV, Yenes, Soles Peruanos"
      ],
      "metadata": {
        "id": "fANKEqXe3hOD"
      }
    },
    {
      "cell_type": "code",
      "source": [
        "divisas = [\"Seleccione una divisa\", \"Dolares\", \n",
        "           \"Quetzalez\", \"Lempiras\", \"Cordobas\", \n",
        "           \"Pesos CR\", \"Euros\", \"Colon SV\", \n",
        "           \"Yenes\", \"Soles Peruanos\"\n",
        "]\n",
        "valores = [0,1, 7.71, 24.51, 35.77, 664.64, 0.98, 8.75, 134.13, 3.84]"
      ],
      "metadata": {
        "id": "131qlW3b3y65"
      },
      "execution_count": null,
      "outputs": []
    },
    {
      "cell_type": "code",
      "source": [
        "def convertir(de, a, cantidad):\n",
        "  return valores[a] / valores[de] * cantidad"
      ],
      "metadata": {
        "id": "u_Ep5-yl7SON"
      },
      "execution_count": null,
      "outputs": []
    },
    {
      "cell_type": "code",
      "source": [
        "print(\"*** MENU ***\")\n",
        "print(\"SELECCIONE UNA DIVISA\")\n",
        "print(\"1. Dolares\")\n",
        "print(\"2. Quetzalez\")\n",
        "print(\"3. Lempiras\")\n",
        "print(\"4. Cordobas\")\n",
        "print(\"5. Pesos CR\")\n",
        "print(\"6. Euros\")\n",
        "print(\"7. Colon SV\")\n",
        "print(\"8. Yenes\")\n",
        "print(\"9. Soles Peruanos\")"
      ],
      "metadata": {
        "id": "VBNk0cwM47ft",
        "outputId": "09b26ec9-b601-4c26-f0bf-b3a4f62f4352",
        "colab": {
          "base_uri": "https://localhost:8080/"
        }
      },
      "execution_count": null,
      "outputs": [
        {
          "output_type": "stream",
          "name": "stdout",
          "text": [
            "*** MENU ***\n",
            "SELECCIONE UNA DIVISA\n",
            "1. Dolares\n",
            "2. Quetzalez\n",
            "3. Lempiras\n",
            "4. Cordobas\n",
            "5. Pesos CR\n",
            "6. Euros\n",
            "7. Colon SV\n",
            "8. Yenes\n",
            "9. Soles Peruanos\n"
          ]
        }
      ]
    },
    {
      "cell_type": "code",
      "source": [
        "de = int(input(\"DE: \"))\n",
        "a = int(input(\"A: \"))\n",
        "cantidad = float(input(\"Cantidad: \"))\n",
        "\n",
        "print( divisas[de],  \" a \", divisas[a], \" es: \", convertir(de, a, cantidad) )"
      ],
      "metadata": {
        "id": "yWMTFImE4vjX",
        "outputId": "5b39b29d-0afd-4e6b-f37e-7c850d264486",
        "colab": {
          "base_uri": "https://localhost:8080/"
        }
      },
      "execution_count": null,
      "outputs": [
        {
          "output_type": "stream",
          "name": "stdout",
          "text": [
            "DE: 6\n",
            "A: 2\n",
            "Cantidad: 10\n",
            "Euros  a  Quetzalez  es:  78.6734693877551\n"
          ]
        }
      ]
    },
    {
      "cell_type": "markdown",
      "source": [
        "**ESTRUCTURAS DE CONTROL**"
      ],
      "metadata": {
        "id": "fTq_xDuTZ6fF"
      }
    },
    {
      "cell_type": "code",
      "source": [
        "#if dondicional si\n",
        "\n",
        "edad = int(input(\"Dime tu edad: \"))\n",
        "if(edad<=2):\n",
        "  print(\"Eres un bebe\")\n",
        "elif(edad<12):\n",
        "  print(\"Edad un niño\")\n",
        "elif (edad<18):\n",
        "  print(\"Eres un adolescente\")\n",
        "elif(edad<65):\n",
        "  print(\"Eres mayor de edad, tienes responsabilidades\")\n",
        "elif(edad<80):\n",
        "  print(\"Eres un adulto mayor\")\n",
        "else:\n",
        "  print(\"Larga vida\")"
      ],
      "metadata": {
        "colab": {
          "base_uri": "https://localhost:8080/"
        },
        "id": "TKbHLsp2Z5LF",
        "outputId": "91f03c7b-ca35-4f86-acd6-85e44699835d"
      },
      "execution_count": null,
      "outputs": [
        {
          "output_type": "stream",
          "name": "stdout",
          "text": [
            "Dime tu edad: 1\n",
            "Eres un bebe\n"
          ]
        }
      ]
    },
    {
      "cell_type": "code",
      "source": [
        "#Ciclos, while y for\n",
        "#obtenga la tabla de multiplicar de x numero dada por el usuario\n",
        "#while\n",
        "ntabla = int(input(\"Tabla: \"))\n",
        "i=1\n",
        "while(i<=10):\n",
        "  print(ntabla, \"X\", i, \"=\", ntabla*i)\n",
        "  i+=1\n"
      ],
      "metadata": {
        "colab": {
          "base_uri": "https://localhost:8080/"
        },
        "id": "3dAIH6SYdSNv",
        "outputId": "120e3b3c-6b83-4904-98c0-d503fa741653"
      },
      "execution_count": null,
      "outputs": [
        {
          "output_type": "stream",
          "name": "stdout",
          "text": [
            "Tabla: 13\n",
            "13 X 1 = 13\n",
            "13 X 2 = 26\n",
            "13 X 3 = 39\n",
            "13 X 4 = 52\n",
            "13 X 5 = 65\n",
            "13 X 6 = 78\n",
            "13 X 7 = 91\n",
            "13 X 8 = 104\n",
            "13 X 9 = 117\n",
            "13 X 10 = 130\n"
          ]
        }
      ]
    },
    {
      "cell_type": "code",
      "source": [
        "ntabla = int(input(\"Tabla: \"))\n",
        "for i in range(1, 11):\n",
        "  print(ntabla, \"X\", i, \"=\", ntabla*i)"
      ],
      "metadata": {
        "colab": {
          "base_uri": "https://localhost:8080/"
        },
        "id": "vpzKBITkeMqz",
        "outputId": "15d6fcd4-4c0f-4b67-e795-18776ca5b861"
      },
      "execution_count": null,
      "outputs": [
        {
          "output_type": "stream",
          "name": "stdout",
          "text": [
            "Tabla: 13\n",
            "13 X 1 = 13\n",
            "13 X 2 = 26\n",
            "13 X 3 = 39\n",
            "13 X 4 = 52\n",
            "13 X 5 = 65\n",
            "13 X 6 = 78\n",
            "13 X 7 = 91\n",
            "13 X 8 = 104\n",
            "13 X 9 = 117\n",
            "13 X 10 = 130\n"
          ]
        }
      ]
    },
    {
      "cell_type": "code",
      "source": [
        "#HAcer un programa en python que genera la tabla de multiplicar dada por el usuario, hasta que el usuario desida salir\n",
        "s=\"s\"\n",
        "while s==\"s\":\n",
        "  ntabla = int(input(\"Tabla: \"))\n",
        "  for i in range(1,11):\n",
        "    print(ntabla, \"X\", i, \"=\", ntabla*i)\n",
        "  s = input(\"Continuar s, cualquier otra tecla para salir \")\n",
        "print(\"Salistes...\")"
      ],
      "metadata": {
        "colab": {
          "base_uri": "https://localhost:8080/"
        },
        "id": "kOjtmLnTf4vD",
        "outputId": "59c38efd-b2f3-441c-f444-00b5653827a0"
      },
      "execution_count": null,
      "outputs": [
        {
          "output_type": "stream",
          "name": "stdout",
          "text": [
            "Tabla: 5\n",
            "5 X 1 = 5\n",
            "5 X 2 = 10\n",
            "5 X 3 = 15\n",
            "5 X 4 = 20\n",
            "5 X 5 = 25\n",
            "5 X 6 = 30\n",
            "5 X 7 = 35\n",
            "5 X 8 = 40\n",
            "5 X 9 = 45\n",
            "5 X 10 = 50\n",
            "Continuar s, cualquier otra tecla para salir s\n",
            "Tabla: 9\n",
            "9 X 1 = 9\n",
            "9 X 2 = 18\n",
            "9 X 3 = 27\n",
            "9 X 4 = 36\n",
            "9 X 5 = 45\n",
            "9 X 6 = 54\n",
            "9 X 7 = 63\n",
            "9 X 8 = 72\n",
            "9 X 9 = 81\n",
            "9 X 10 = 90\n",
            "Continuar s, cualquier otra tecla para salir \n",
            "Salistes...\n"
          ]
        }
      ]
    },
    {
      "cell_type": "code",
      "source": [
        "def convertir(conversor, de, a, cantidad):\n",
        "  return valores[conversor][a] / valores[conversor][de] * cantidad"
      ],
      "metadata": {
        "id": "NYSxSqVb2WO3"
      },
      "execution_count": null,
      "outputs": []
    },
    {
      "cell_type": "code",
      "source": [
        "etiquetas = [\n",
        "  [],\n",
        "  [\"Seleccione una divisa\", \"1. Dolares\", \n",
        "            \"2. Quetzalez\", \"3. Lempiras\", \"4. Cordobas\", \n",
        "            \"5. Pesos CR\", \"6. Euros\", \"7. Colon SV\", \n",
        "            \"8. Yenes\", \"9. Soles Peruanos\"\n",
        "  ],\n",
        "  [\"Seleccione una opcion\", \"1. Metro\", \"2. Milimetro\", \n",
        "    \"3. Centimetro\", \n",
        "    \"4. Pie\", \"5. Varas\", \"6. Yardas\", \"7. Km\", \"8. Millas\"],\n",
        "  [\"Sleccione una opcion\", \"1. Gigabyte\", \"2. Megabyte\", \"3. Kilobyte\"] #Almacenamiento\n",
        "]\n",
        "valores = [[],\n",
        "    [0,1, 7.71, 24.51, 35.77, 664.64, 0.98, 8.75, 134.13, 3.84], #divisas\n",
        "    [0, 1, 1000, 100, 3.28084, 1.1963081929167, 1.0936133, 0.001, 0.000621371], #longitudes\n",
        "    [0,1, 1000, 1000000]\n",
        "]"
      ],
      "metadata": {
        "id": "YKkPq4lw2Rt6"
      },
      "execution_count": null,
      "outputs": []
    },
    {
      "cell_type": "code",
      "source": [
        "print(\"**MENU - CONVERSOR**\")\n",
        "print(\"1. Divisas\")\n",
        "print(\"2. Longitud\")\n",
        "print(\"3. Almacenamiento\")\n",
        "opcion = int(input(\"Conversor: \"))\n",
        "print(\"CONVERSOR ELEGIDO: \", etiquetas[opcion])\n",
        "de = int(input(\"DE: \"))\n",
        "a = int(input(\"A: \"))\n",
        "cantidad = int(input(\"Cantidad: \"))\n",
        "print( \"COnversion de \", etiquetas[opcion][de], \" a \", etiquetas[opcion][a], \" equivale a \", convertir(opcion, de, a, cantidad) )"
      ],
      "metadata": {
        "id": "UWo0BSSw5OQi"
      },
      "execution_count": null,
      "outputs": []
    },
    {
      "cell_type": "code",
      "source": [
        "#polimosfismo\n",
        "\n",
        "num1 = 5.5\n",
        "num2 = 4\n",
        "print(\"Suma: \", num1 + num2)\n",
        "\n",
        "nombre = \"Luis \"\n",
        "saludo = \"Hola \" + nombre\n",
        "print(saludo)"
      ],
      "metadata": {
        "colab": {
          "base_uri": "https://localhost:8080/"
        },
        "id": "o9pziXlLh024",
        "outputId": "2a36f299-79ee-4f92-9815-e692aecdbb2b"
      },
      "execution_count": null,
      "outputs": [
        {
          "output_type": "stream",
          "name": "stdout",
          "text": [
            "Suma:  5.54\n",
            "Hola Luis \n"
          ]
        }
      ]
    },
    {
      "cell_type": "code",
      "source": [
        "!pip install pandas"
      ],
      "metadata": {
        "colab": {
          "base_uri": "https://localhost:8080/"
        },
        "id": "XZjj8iBYppA_",
        "outputId": "623b0fc1-f1dc-4ca6-e1d3-0eabdd792c54"
      },
      "execution_count": null,
      "outputs": [
        {
          "output_type": "stream",
          "name": "stdout",
          "text": [
            "Looking in indexes: https://pypi.org/simple, https://us-python.pkg.dev/colab-wheels/public/simple/\n",
            "Requirement already satisfied: pandas in /usr/local/lib/python3.7/dist-packages (1.3.5)\n",
            "Requirement already satisfied: pytz>=2017.3 in /usr/local/lib/python3.7/dist-packages (from pandas) (2022.2.1)\n",
            "Requirement already satisfied: numpy>=1.17.3 in /usr/local/lib/python3.7/dist-packages (from pandas) (1.21.6)\n",
            "Requirement already satisfied: python-dateutil>=2.7.3 in /usr/local/lib/python3.7/dist-packages (from pandas) (2.8.2)\n",
            "Requirement already satisfied: six>=1.5 in /usr/local/lib/python3.7/dist-packages (from python-dateutil>=2.7.3->pandas) (1.15.0)\n"
          ]
        }
      ]
    },
    {
      "cell_type": "code",
      "source": [
        "#USO del paradigma del Programacion Orientada a Objetos\n",
        "class deducciones:\n",
        "  def __init__(self, sueldo, porcentajeIsss, porcentajeAfp, tablaIsr):\n",
        "    self.sueldo = sueldo\n",
        "    self.porcentajeIsss = porcentajeIsss\n",
        "    self.porcentajeAfp = porcentajeAfp\n",
        "    self.tablaIsr = tablaIsr\n",
        "  \n",
        "  def calcularIsss(self):\n",
        "    return self.sueldo*self.porcentajeIsss/100\n",
        "\n",
        "  def calcularAfp(self):\n",
        "    return self.sueldo*self.porcentajeAfp/100\n",
        "  \n",
        "  def calcularIsr(self):\n",
        "    self.sueldoNeto = self.sueldo - (self.calcularIsss() + self.calcularAfp())\n",
        "    self.isr = 0\n",
        "    for tramo in self.tablaIsr:\n",
        "      if self.sueldoNeto>=tramo[0] and self.sueldoNeto<=tramo[1]:\n",
        "        self.isr = (self.sueldoNeto - tramo[0])*tramo[2]/100 + tramo[3]\n",
        "    return self.isr"
      ],
      "metadata": {
        "id": "ZWIqVHpfdU2W"
      },
      "execution_count": null,
      "outputs": []
    },
    {
      "cell_type": "code",
      "source": [
        "#ISSS\n",
        "porcentajeIsssP = 3 #esta valor puede venir de una base de datos\n",
        "porcentajeIsssE = 7.5\n",
        "#aFP\n",
        "porcentajeAfpP = 6.25\n",
        "porcentajeAfpE = 7.75\n",
        "#ISR\n",
        "tablaIsr = [\n",
        "    [0.01,    472,     0,  0],     #tramo I\n",
        "    [472.01,  895.24,  10, 17.67], #tramo II\n",
        "    [895.25,  2038.10, 20, 60],    #tramo III\n",
        "    [2038.11, 9999999, 30, 288.57] #tramo IV\n",
        "]"
      ],
      "metadata": {
        "id": "hsoM__AukZW5"
      },
      "execution_count": null,
      "outputs": []
    },
    {
      "cell_type": "code",
      "source": [
        "sueldo = float(input(\"Sueldo: \"))\n",
        "\n",
        "objDp = deducciones(sueldo, porcentajeIsssP, porcentajeAfpP, tablaIsr)\n",
        "objDe = deducciones(sueldo, porcentajeIsssE, porcentajeAfpE, tablaIsr)\n",
        "\n",
        "print(\"ISSS - Personas: \", round(objDp.calcularIsss(),2), \"ISSS - Empresa:\", round(objDe.calcularIsss(),2))\n",
        "print(\"AFP - Personas: \", round(objDp.calcularAfp(),2), \"AFP - Empresa: \", round(objDe.calcularAfp(), 2))\n",
        "print(\"Isr - Personas: \", round(objDp.calcularIsr(),2) )"
      ],
      "metadata": {
        "colab": {
          "base_uri": "https://localhost:8080/"
        },
        "id": "ZCLvq0HTjXxL",
        "outputId": "75c790e7-5632-456f-c5c0-5a4d073d1952"
      },
      "execution_count": null,
      "outputs": [
        {
          "output_type": "stream",
          "name": "stdout",
          "text": [
            "Sueldo: 800\n",
            "ISSS - Personas:  24.0 ISSS - Empresa: 60.0\n",
            "AFP - Personas:  50.0 AFP - Empresa:  62.0\n",
            "Isr - Personas:  43.07\n"
          ]
        }
      ]
    },
    {
      "cell_type": "code",
      "source": [
        "#Importamos la libreria pandas\n",
        "import pandas as pd"
      ],
      "metadata": {
        "id": "4A7oTerJ7H46"
      },
      "execution_count": null,
      "outputs": []
    },
    {
      "cell_type": "code",
      "source": [
        "lenguajes = {\n",
        "    0:\"VB\",\n",
        "    1:\"C#\",\n",
        "    2:\"JAVA\",\n",
        "    3:\"XML\",\n",
        "    4:\"PYTHON\",\n",
        "    5:\"JS\",\n",
        "    6:\"HTML\",\n",
        "    7:\"CSS\",\n",
        "    8:\"PHP\"\n",
        "};\n",
        "pdLenguajes = pd.Series(lenguajes);\n",
        "print( lenguajes, dict(pdLenguajes) );\n",
        "\n",
        "pdLeng = pd.Series([\"VB\", \"C#\", \"JAVA\", \"XML\", \"PYTHON\"], index=[1,2,3,4,5])\n",
        "print( dict(pdLeng), pdLeng[1] )"
      ],
      "metadata": {
        "id": "X0RmawRw7aRQ",
        "outputId": "8a666929-4552-44fb-fe84-7431f706f0a1",
        "colab": {
          "base_uri": "https://localhost:8080/"
        }
      },
      "execution_count": null,
      "outputs": [
        {
          "output_type": "stream",
          "name": "stdout",
          "text": [
            "{0: 'VB', 1: 'C#', 2: 'JAVA', 3: 'XML', 4: 'PYTHON', 5: 'JS', 6: 'HTML', 7: 'CSS', 8: 'PHP'} {0: 'VB', 1: 'C#', 2: 'JAVA', 3: 'XML', 4: 'PYTHON', 5: 'JS', 6: 'HTML', 7: 'CSS', 8: 'PHP'}\n",
            "{1: 'VB', 2: 'C#', 3: 'JAVA', 4: 'XML', 5: 'PYTHON'} VB\n"
          ]
        }
      ]
    },
    {
      "cell_type": "code",
      "source": [
        "import pandas as pd\n",
        "import matplotlib.pyplot as plt"
      ],
      "metadata": {
        "id": "-eBf3UiuGBh8"
      },
      "execution_count": 21,
      "outputs": []
    },
    {
      "cell_type": "code",
      "source": [
        "notas = pd.read_csv(\"/content/notas.csv\", sep=\";\", encoding=\"utf-8\")\n",
        "print(notas)"
      ],
      "metadata": {
        "id": "IzOAB9qHGKX1"
      },
      "execution_count": null,
      "outputs": []
    },
    {
      "cell_type": "code",
      "source": [
        "sobresalientes = notas.loc[notas[\"notas\"]>=9]\n",
        "print(sobresalientes)"
      ],
      "metadata": {
        "id": "uH6KD07qHWQN"
      },
      "execution_count": null,
      "outputs": []
    },
    {
      "cell_type": "code",
      "source": [
        "reprobados = notas.loc[notas[\"notas\"]<6].agg({\"count\"})\n",
        "print(reprobados)"
      ],
      "metadata": {
        "id": "u6msn3uqIEEM"
      },
      "execution_count": null,
      "outputs": []
    },
    {
      "cell_type": "code",
      "source": [
        "agrupar = notas.groupby([\"notas\"]).agg({\"sum\"})\n",
        "print(agrupar)"
      ],
      "metadata": {
        "id": "y_DLe-QOIfPW"
      },
      "execution_count": null,
      "outputs": []
    },
    {
      "cell_type": "code",
      "source": [
        "tabla = pd.crosstab(index=notas[\"notas\"], columns=\"frecuencia\")\n",
        "plt.pie(tabla, labels=tabla.index)\n",
        "plt.xlabel(\"Estudiantes por notas\")\n",
        "plt.show()\n",
        "\n",
        "tabla.to_csv(\"/content/tabla.csv\", sep=\";\")"
      ],
      "metadata": {
        "id": "B_DGuwGhJGim"
      },
      "execution_count": null,
      "outputs": []
    }
  ],
  "metadata": {
    "colab": {
      "collapsed_sections": [],
      "name": "Te damos la bienvenida a Colaboratory",
      "provenance": [],
      "include_colab_link": true
    },
    "kernelspec": {
      "display_name": "Python 3",
      "name": "python3"
    }
  },
  "nbformat": 4,
  "nbformat_minor": 0
}